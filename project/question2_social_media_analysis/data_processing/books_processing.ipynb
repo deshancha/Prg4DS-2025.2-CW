{
 "cells": [
  {
   "cell_type": "code",
   "execution_count": 2,
   "id": "a90ba29c",
   "metadata": {},
   "outputs": [],
   "source": [
    "import pandas as pd\n",
    "\n",
    "df = pd.read_json(\"../data_collection/raw_files/books.json\")"
   ]
  },
  {
   "cell_type": "markdown",
   "id": "0830167a",
   "metadata": {},
   "source": [
    "# Shape of the data frame (rows x columns)"
   ]
  },
  {
   "cell_type": "code",
   "execution_count": 3,
   "id": "61e7bae4",
   "metadata": {},
   "outputs": [
    {
     "data": {
      "text/plain": [
       "(1000, 13)"
      ]
     },
     "execution_count": 3,
     "metadata": {},
     "output_type": "execute_result"
    }
   ],
   "source": [
    "df.shape"
   ]
  },
  {
   "cell_type": "markdown",
   "id": "4837bbe4",
   "metadata": {},
   "source": [
    "# Print Data Frame Head"
   ]
  },
  {
   "cell_type": "code",
   "execution_count": 4,
   "id": "08af6e46",
   "metadata": {},
   "outputs": [
    {
     "data": {
      "text/html": [
       "<div>\n",
       "<style scoped>\n",
       "    .dataframe tbody tr th:only-of-type {\n",
       "        vertical-align: middle;\n",
       "    }\n",
       "\n",
       "    .dataframe tbody tr th {\n",
       "        vertical-align: top;\n",
       "    }\n",
       "\n",
       "    .dataframe thead th {\n",
       "        text-align: right;\n",
       "    }\n",
       "</style>\n",
       "<table border=\"1\" class=\"dataframe\">\n",
       "  <thead>\n",
       "    <tr style=\"text-align: right;\">\n",
       "      <th></th>\n",
       "      <th>title</th>\n",
       "      <th>price</th>\n",
       "      <th>category</th>\n",
       "      <th>available</th>\n",
       "      <th>stock_count</th>\n",
       "      <th>rating</th>\n",
       "      <th>description</th>\n",
       "      <th>upc</th>\n",
       "      <th>product_type</th>\n",
       "      <th>price_excl_tax</th>\n",
       "      <th>price_incl_tax</th>\n",
       "      <th>tax</th>\n",
       "      <th>num_reviews</th>\n",
       "    </tr>\n",
       "  </thead>\n",
       "  <tbody>\n",
       "    <tr>\n",
       "      <th>0</th>\n",
       "      <td>A Light in the Attic</td>\n",
       "      <td>£51.77</td>\n",
       "      <td>Poetry</td>\n",
       "      <td>True</td>\n",
       "      <td>22</td>\n",
       "      <td>Three</td>\n",
       "      <td>It's hard to imagine a world without A Light i...</td>\n",
       "      <td>a897fe39b1053632</td>\n",
       "      <td>Books</td>\n",
       "      <td>£51.77</td>\n",
       "      <td>£51.77</td>\n",
       "      <td>£0.00</td>\n",
       "      <td>0</td>\n",
       "    </tr>\n",
       "    <tr>\n",
       "      <th>1</th>\n",
       "      <td>Tipping the Velvet</td>\n",
       "      <td>£53.74</td>\n",
       "      <td>Historical Fiction</td>\n",
       "      <td>True</td>\n",
       "      <td>20</td>\n",
       "      <td>One</td>\n",
       "      <td>\"Erotic and absorbing...Written with starling ...</td>\n",
       "      <td>90fa61229261140a</td>\n",
       "      <td>Books</td>\n",
       "      <td>£53.74</td>\n",
       "      <td>£53.74</td>\n",
       "      <td>£0.00</td>\n",
       "      <td>0</td>\n",
       "    </tr>\n",
       "    <tr>\n",
       "      <th>2</th>\n",
       "      <td>Soumission</td>\n",
       "      <td>£50.10</td>\n",
       "      <td>Fiction</td>\n",
       "      <td>True</td>\n",
       "      <td>20</td>\n",
       "      <td>One</td>\n",
       "      <td>Dans une France assez proche de la nôtre, un h...</td>\n",
       "      <td>6957f44c3847a760</td>\n",
       "      <td>Books</td>\n",
       "      <td>£50.10</td>\n",
       "      <td>£50.10</td>\n",
       "      <td>£0.00</td>\n",
       "      <td>0</td>\n",
       "    </tr>\n",
       "    <tr>\n",
       "      <th>3</th>\n",
       "      <td>Sharp Objects</td>\n",
       "      <td>£47.82</td>\n",
       "      <td>Mystery</td>\n",
       "      <td>True</td>\n",
       "      <td>20</td>\n",
       "      <td>Four</td>\n",
       "      <td>WICKED above her hipbone, GIRL across her hear...</td>\n",
       "      <td>e00eb4fd7b871a48</td>\n",
       "      <td>Books</td>\n",
       "      <td>£47.82</td>\n",
       "      <td>£47.82</td>\n",
       "      <td>£0.00</td>\n",
       "      <td>0</td>\n",
       "    </tr>\n",
       "    <tr>\n",
       "      <th>4</th>\n",
       "      <td>Sapiens: A Brief History of Humankind</td>\n",
       "      <td>£54.23</td>\n",
       "      <td>History</td>\n",
       "      <td>True</td>\n",
       "      <td>20</td>\n",
       "      <td>Five</td>\n",
       "      <td>From a renowned historian comes a groundbreaki...</td>\n",
       "      <td>4165285e1663650f</td>\n",
       "      <td>Books</td>\n",
       "      <td>£54.23</td>\n",
       "      <td>£54.23</td>\n",
       "      <td>£0.00</td>\n",
       "      <td>0</td>\n",
       "    </tr>\n",
       "  </tbody>\n",
       "</table>\n",
       "</div>"
      ],
      "text/plain": [
       "                                   title   price            category  \\\n",
       "0                   A Light in the Attic  £51.77              Poetry   \n",
       "1                     Tipping the Velvet  £53.74  Historical Fiction   \n",
       "2                             Soumission  £50.10             Fiction   \n",
       "3                          Sharp Objects  £47.82             Mystery   \n",
       "4  Sapiens: A Brief History of Humankind  £54.23             History   \n",
       "\n",
       "   available  stock_count rating  \\\n",
       "0       True           22  Three   \n",
       "1       True           20    One   \n",
       "2       True           20    One   \n",
       "3       True           20   Four   \n",
       "4       True           20   Five   \n",
       "\n",
       "                                         description               upc  \\\n",
       "0  It's hard to imagine a world without A Light i...  a897fe39b1053632   \n",
       "1  \"Erotic and absorbing...Written with starling ...  90fa61229261140a   \n",
       "2  Dans une France assez proche de la nôtre, un h...  6957f44c3847a760   \n",
       "3  WICKED above her hipbone, GIRL across her hear...  e00eb4fd7b871a48   \n",
       "4  From a renowned historian comes a groundbreaki...  4165285e1663650f   \n",
       "\n",
       "  product_type price_excl_tax price_incl_tax    tax  num_reviews  \n",
       "0        Books         £51.77         £51.77  £0.00            0  \n",
       "1        Books         £53.74         £53.74  £0.00            0  \n",
       "2        Books         £50.10         £50.10  £0.00            0  \n",
       "3        Books         £47.82         £47.82  £0.00            0  \n",
       "4        Books         £54.23         £54.23  £0.00            0  "
      ]
     },
     "execution_count": 4,
     "metadata": {},
     "output_type": "execute_result"
    }
   ],
   "source": [
    "df.head()"
   ]
  },
  {
   "cell_type": "markdown",
   "id": "9891f271",
   "metadata": {},
   "source": [
    "# Statistical Summary"
   ]
  },
  {
   "cell_type": "code",
   "execution_count": 5,
   "id": "46af2ca9",
   "metadata": {},
   "outputs": [
    {
     "data": {
      "text/html": [
       "<div>\n",
       "<style scoped>\n",
       "    .dataframe tbody tr th:only-of-type {\n",
       "        vertical-align: middle;\n",
       "    }\n",
       "\n",
       "    .dataframe tbody tr th {\n",
       "        vertical-align: top;\n",
       "    }\n",
       "\n",
       "    .dataframe thead th {\n",
       "        text-align: right;\n",
       "    }\n",
       "</style>\n",
       "<table border=\"1\" class=\"dataframe\">\n",
       "  <thead>\n",
       "    <tr style=\"text-align: right;\">\n",
       "      <th></th>\n",
       "      <th>stock_count</th>\n",
       "      <th>num_reviews</th>\n",
       "    </tr>\n",
       "  </thead>\n",
       "  <tbody>\n",
       "    <tr>\n",
       "      <th>count</th>\n",
       "      <td>1000.000000</td>\n",
       "      <td>1000.0</td>\n",
       "    </tr>\n",
       "    <tr>\n",
       "      <th>mean</th>\n",
       "      <td>8.585000</td>\n",
       "      <td>0.0</td>\n",
       "    </tr>\n",
       "    <tr>\n",
       "      <th>std</th>\n",
       "      <td>5.654622</td>\n",
       "      <td>0.0</td>\n",
       "    </tr>\n",
       "    <tr>\n",
       "      <th>min</th>\n",
       "      <td>1.000000</td>\n",
       "      <td>0.0</td>\n",
       "    </tr>\n",
       "    <tr>\n",
       "      <th>25%</th>\n",
       "      <td>3.000000</td>\n",
       "      <td>0.0</td>\n",
       "    </tr>\n",
       "    <tr>\n",
       "      <th>50%</th>\n",
       "      <td>7.000000</td>\n",
       "      <td>0.0</td>\n",
       "    </tr>\n",
       "    <tr>\n",
       "      <th>75%</th>\n",
       "      <td>14.000000</td>\n",
       "      <td>0.0</td>\n",
       "    </tr>\n",
       "    <tr>\n",
       "      <th>max</th>\n",
       "      <td>22.000000</td>\n",
       "      <td>0.0</td>\n",
       "    </tr>\n",
       "  </tbody>\n",
       "</table>\n",
       "</div>"
      ],
      "text/plain": [
       "       stock_count  num_reviews\n",
       "count  1000.000000       1000.0\n",
       "mean      8.585000          0.0\n",
       "std       5.654622          0.0\n",
       "min       1.000000          0.0\n",
       "25%       3.000000          0.0\n",
       "50%       7.000000          0.0\n",
       "75%      14.000000          0.0\n",
       "max      22.000000          0.0"
      ]
     },
     "execution_count": 5,
     "metadata": {},
     "output_type": "execute_result"
    }
   ],
   "source": [
    "df.describe()"
   ]
  },
  {
   "cell_type": "markdown",
   "id": "9f556511",
   "metadata": {},
   "source": [
    "## We need to clean up special characters in front of price tags and num_reviews, upc not need"
   ]
  },
  {
   "cell_type": "code",
   "execution_count": 6,
   "id": "58820269",
   "metadata": {},
   "outputs": [],
   "source": [
    "# remove num_reviews column\n",
    "df = df.drop(columns=[\"num_reviews\", \"upc\"])\n",
    "\n",
    "# remove special char Â£ in each price column\n",
    "price_cols = [\"price\", \"price_excl_tax\", \"price_incl_tax\", \"tax\"]\n",
    "df[price_cols] = df[price_cols].replace(r\"£\", \"\", regex=True).astype(float)"
   ]
  },
  {
   "cell_type": "code",
   "execution_count": 7,
   "id": "3014c6de",
   "metadata": {},
   "outputs": [
    {
     "data": {
      "text/html": [
       "<div>\n",
       "<style scoped>\n",
       "    .dataframe tbody tr th:only-of-type {\n",
       "        vertical-align: middle;\n",
       "    }\n",
       "\n",
       "    .dataframe tbody tr th {\n",
       "        vertical-align: top;\n",
       "    }\n",
       "\n",
       "    .dataframe thead th {\n",
       "        text-align: right;\n",
       "    }\n",
       "</style>\n",
       "<table border=\"1\" class=\"dataframe\">\n",
       "  <thead>\n",
       "    <tr style=\"text-align: right;\">\n",
       "      <th></th>\n",
       "      <th>price</th>\n",
       "      <th>stock_count</th>\n",
       "      <th>price_excl_tax</th>\n",
       "      <th>price_incl_tax</th>\n",
       "      <th>tax</th>\n",
       "    </tr>\n",
       "  </thead>\n",
       "  <tbody>\n",
       "    <tr>\n",
       "      <th>count</th>\n",
       "      <td>1000.00000</td>\n",
       "      <td>1000.000000</td>\n",
       "      <td>1000.00000</td>\n",
       "      <td>1000.00000</td>\n",
       "      <td>1000.0</td>\n",
       "    </tr>\n",
       "    <tr>\n",
       "      <th>mean</th>\n",
       "      <td>35.07035</td>\n",
       "      <td>8.585000</td>\n",
       "      <td>35.07035</td>\n",
       "      <td>35.07035</td>\n",
       "      <td>0.0</td>\n",
       "    </tr>\n",
       "    <tr>\n",
       "      <th>std</th>\n",
       "      <td>14.44669</td>\n",
       "      <td>5.654622</td>\n",
       "      <td>14.44669</td>\n",
       "      <td>14.44669</td>\n",
       "      <td>0.0</td>\n",
       "    </tr>\n",
       "    <tr>\n",
       "      <th>min</th>\n",
       "      <td>10.00000</td>\n",
       "      <td>1.000000</td>\n",
       "      <td>10.00000</td>\n",
       "      <td>10.00000</td>\n",
       "      <td>0.0</td>\n",
       "    </tr>\n",
       "    <tr>\n",
       "      <th>25%</th>\n",
       "      <td>22.10750</td>\n",
       "      <td>3.000000</td>\n",
       "      <td>22.10750</td>\n",
       "      <td>22.10750</td>\n",
       "      <td>0.0</td>\n",
       "    </tr>\n",
       "    <tr>\n",
       "      <th>50%</th>\n",
       "      <td>35.98000</td>\n",
       "      <td>7.000000</td>\n",
       "      <td>35.98000</td>\n",
       "      <td>35.98000</td>\n",
       "      <td>0.0</td>\n",
       "    </tr>\n",
       "    <tr>\n",
       "      <th>75%</th>\n",
       "      <td>47.45750</td>\n",
       "      <td>14.000000</td>\n",
       "      <td>47.45750</td>\n",
       "      <td>47.45750</td>\n",
       "      <td>0.0</td>\n",
       "    </tr>\n",
       "    <tr>\n",
       "      <th>max</th>\n",
       "      <td>59.99000</td>\n",
       "      <td>22.000000</td>\n",
       "      <td>59.99000</td>\n",
       "      <td>59.99000</td>\n",
       "      <td>0.0</td>\n",
       "    </tr>\n",
       "  </tbody>\n",
       "</table>\n",
       "</div>"
      ],
      "text/plain": [
       "            price  stock_count  price_excl_tax  price_incl_tax     tax\n",
       "count  1000.00000  1000.000000      1000.00000      1000.00000  1000.0\n",
       "mean     35.07035     8.585000        35.07035        35.07035     0.0\n",
       "std      14.44669     5.654622        14.44669        14.44669     0.0\n",
       "min      10.00000     1.000000        10.00000        10.00000     0.0\n",
       "25%      22.10750     3.000000        22.10750        22.10750     0.0\n",
       "50%      35.98000     7.000000        35.98000        35.98000     0.0\n",
       "75%      47.45750    14.000000        47.45750        47.45750     0.0\n",
       "max      59.99000    22.000000        59.99000        59.99000     0.0"
      ]
     },
     "execution_count": 7,
     "metadata": {},
     "output_type": "execute_result"
    }
   ],
   "source": [
    "df.describe()"
   ]
  },
  {
   "cell_type": "markdown",
   "id": "a7d5f422",
   "metadata": {},
   "source": [
    "## tax is not applicable here, we can remove columns [price_excl_tax\tprice_incl_tax\ttax]"
   ]
  },
  {
   "cell_type": "code",
   "execution_count": 8,
   "id": "569c7708",
   "metadata": {},
   "outputs": [],
   "source": [
    "df = df.drop(columns=[\"price_excl_tax\", \"price_incl_tax\", \"tax\"])"
   ]
  },
  {
   "cell_type": "code",
   "execution_count": 9,
   "id": "dca5d809",
   "metadata": {},
   "outputs": [
    {
     "data": {
      "text/html": [
       "<div>\n",
       "<style scoped>\n",
       "    .dataframe tbody tr th:only-of-type {\n",
       "        vertical-align: middle;\n",
       "    }\n",
       "\n",
       "    .dataframe tbody tr th {\n",
       "        vertical-align: top;\n",
       "    }\n",
       "\n",
       "    .dataframe thead th {\n",
       "        text-align: right;\n",
       "    }\n",
       "</style>\n",
       "<table border=\"1\" class=\"dataframe\">\n",
       "  <thead>\n",
       "    <tr style=\"text-align: right;\">\n",
       "      <th></th>\n",
       "      <th>price</th>\n",
       "      <th>stock_count</th>\n",
       "    </tr>\n",
       "  </thead>\n",
       "  <tbody>\n",
       "    <tr>\n",
       "      <th>count</th>\n",
       "      <td>1000.00000</td>\n",
       "      <td>1000.000000</td>\n",
       "    </tr>\n",
       "    <tr>\n",
       "      <th>mean</th>\n",
       "      <td>35.07035</td>\n",
       "      <td>8.585000</td>\n",
       "    </tr>\n",
       "    <tr>\n",
       "      <th>std</th>\n",
       "      <td>14.44669</td>\n",
       "      <td>5.654622</td>\n",
       "    </tr>\n",
       "    <tr>\n",
       "      <th>min</th>\n",
       "      <td>10.00000</td>\n",
       "      <td>1.000000</td>\n",
       "    </tr>\n",
       "    <tr>\n",
       "      <th>25%</th>\n",
       "      <td>22.10750</td>\n",
       "      <td>3.000000</td>\n",
       "    </tr>\n",
       "    <tr>\n",
       "      <th>50%</th>\n",
       "      <td>35.98000</td>\n",
       "      <td>7.000000</td>\n",
       "    </tr>\n",
       "    <tr>\n",
       "      <th>75%</th>\n",
       "      <td>47.45750</td>\n",
       "      <td>14.000000</td>\n",
       "    </tr>\n",
       "    <tr>\n",
       "      <th>max</th>\n",
       "      <td>59.99000</td>\n",
       "      <td>22.000000</td>\n",
       "    </tr>\n",
       "  </tbody>\n",
       "</table>\n",
       "</div>"
      ],
      "text/plain": [
       "            price  stock_count\n",
       "count  1000.00000  1000.000000\n",
       "mean     35.07035     8.585000\n",
       "std      14.44669     5.654622\n",
       "min      10.00000     1.000000\n",
       "25%      22.10750     3.000000\n",
       "50%      35.98000     7.000000\n",
       "75%      47.45750    14.000000\n",
       "max      59.99000    22.000000"
      ]
     },
     "execution_count": 9,
     "metadata": {},
     "output_type": "execute_result"
    }
   ],
   "source": [
    "df.describe()"
   ]
  },
  {
   "cell_type": "markdown",
   "id": "021c0189",
   "metadata": {},
   "source": [
    "# Text normalization"
   ]
  },
  {
   "cell_type": "code",
   "execution_count": 10,
   "id": "7e355274",
   "metadata": {},
   "outputs": [],
   "source": [
    "df[\"description\"] = df[\"description\"].str.replace(r\"\\.\\.\\.more$\", \"\", regex=True)\n",
    "df[\"description\"] = df[\"description\"].str.strip()\n",
    "df[\"description\"] = df[\"description\"].str.replace(r\"\\s+\", \" \", regex=True)"
   ]
  },
  {
   "cell_type": "code",
   "execution_count": 11,
   "id": "da9e8503",
   "metadata": {},
   "outputs": [],
   "source": [
    "import re\n",
    "def normalize_title(title):\n",
    "    # remove parenthses\n",
    "    title = re.sub(r\"\\s*\\(.*?\\)\", \"\", title)\n",
    "    # remove #\n",
    "    title = title.replace(\"#\", \"\")\n",
    "    # strip\n",
    "    return title.strip()\n",
    "\n",
    "df[\"title\"] = df[\"title\"].apply(normalize_title)"
   ]
  },
  {
   "cell_type": "code",
   "execution_count": 12,
   "id": "a8c20785",
   "metadata": {},
   "outputs": [
    {
     "data": {
      "text/html": [
       "<div>\n",
       "<style scoped>\n",
       "    .dataframe tbody tr th:only-of-type {\n",
       "        vertical-align: middle;\n",
       "    }\n",
       "\n",
       "    .dataframe tbody tr th {\n",
       "        vertical-align: top;\n",
       "    }\n",
       "\n",
       "    .dataframe thead th {\n",
       "        text-align: right;\n",
       "    }\n",
       "</style>\n",
       "<table border=\"1\" class=\"dataframe\">\n",
       "  <thead>\n",
       "    <tr style=\"text-align: right;\">\n",
       "      <th></th>\n",
       "      <th>title</th>\n",
       "      <th>price</th>\n",
       "      <th>category</th>\n",
       "      <th>available</th>\n",
       "      <th>stock_count</th>\n",
       "      <th>rating</th>\n",
       "      <th>description</th>\n",
       "      <th>product_type</th>\n",
       "    </tr>\n",
       "  </thead>\n",
       "  <tbody>\n",
       "    <tr>\n",
       "      <th>0</th>\n",
       "      <td>A Light in the Attic</td>\n",
       "      <td>51.77</td>\n",
       "      <td>Poetry</td>\n",
       "      <td>True</td>\n",
       "      <td>22</td>\n",
       "      <td>Three</td>\n",
       "      <td>It's hard to imagine a world without A Light i...</td>\n",
       "      <td>Books</td>\n",
       "    </tr>\n",
       "    <tr>\n",
       "      <th>1</th>\n",
       "      <td>Tipping the Velvet</td>\n",
       "      <td>53.74</td>\n",
       "      <td>Historical Fiction</td>\n",
       "      <td>True</td>\n",
       "      <td>20</td>\n",
       "      <td>One</td>\n",
       "      <td>\"Erotic and absorbing...Written with starling ...</td>\n",
       "      <td>Books</td>\n",
       "    </tr>\n",
       "    <tr>\n",
       "      <th>2</th>\n",
       "      <td>Soumission</td>\n",
       "      <td>50.10</td>\n",
       "      <td>Fiction</td>\n",
       "      <td>True</td>\n",
       "      <td>20</td>\n",
       "      <td>One</td>\n",
       "      <td>Dans une France assez proche de la nôtre, un h...</td>\n",
       "      <td>Books</td>\n",
       "    </tr>\n",
       "    <tr>\n",
       "      <th>3</th>\n",
       "      <td>Sharp Objects</td>\n",
       "      <td>47.82</td>\n",
       "      <td>Mystery</td>\n",
       "      <td>True</td>\n",
       "      <td>20</td>\n",
       "      <td>Four</td>\n",
       "      <td>WICKED above her hipbone, GIRL across her hear...</td>\n",
       "      <td>Books</td>\n",
       "    </tr>\n",
       "    <tr>\n",
       "      <th>4</th>\n",
       "      <td>Sapiens: A Brief History of Humankind</td>\n",
       "      <td>54.23</td>\n",
       "      <td>History</td>\n",
       "      <td>True</td>\n",
       "      <td>20</td>\n",
       "      <td>Five</td>\n",
       "      <td>From a renowned historian comes a groundbreaki...</td>\n",
       "      <td>Books</td>\n",
       "    </tr>\n",
       "  </tbody>\n",
       "</table>\n",
       "</div>"
      ],
      "text/plain": [
       "                                   title  price            category  \\\n",
       "0                   A Light in the Attic  51.77              Poetry   \n",
       "1                     Tipping the Velvet  53.74  Historical Fiction   \n",
       "2                             Soumission  50.10             Fiction   \n",
       "3                          Sharp Objects  47.82             Mystery   \n",
       "4  Sapiens: A Brief History of Humankind  54.23             History   \n",
       "\n",
       "   available  stock_count rating  \\\n",
       "0       True           22  Three   \n",
       "1       True           20    One   \n",
       "2       True           20    One   \n",
       "3       True           20   Four   \n",
       "4       True           20   Five   \n",
       "\n",
       "                                         description product_type  \n",
       "0  It's hard to imagine a world without A Light i...        Books  \n",
       "1  \"Erotic and absorbing...Written with starling ...        Books  \n",
       "2  Dans une France assez proche de la nôtre, un h...        Books  \n",
       "3  WICKED above her hipbone, GIRL across her hear...        Books  \n",
       "4  From a renowned historian comes a groundbreaki...        Books  "
      ]
     },
     "execution_count": 12,
     "metadata": {},
     "output_type": "execute_result"
    }
   ],
   "source": [
    "df.head()"
   ]
  },
  {
   "cell_type": "markdown",
   "id": "9db8598a",
   "metadata": {},
   "source": [
    "# Convert to categorical"
   ]
  },
  {
   "cell_type": "code",
   "execution_count": 13,
   "id": "53707931",
   "metadata": {},
   "outputs": [
    {
     "name": "stdout",
     "output_type": "stream",
     "text": [
      "title             object\n",
      "price            float64\n",
      "category        category\n",
      "available       category\n",
      "stock_count        int64\n",
      "rating          category\n",
      "description       object\n",
      "product_type    category\n",
      "dtype: object\n"
     ]
    }
   ],
   "source": [
    "df['rating'] = df['rating'].astype('category')\n",
    "df['product_type'] = df['product_type'].astype('category')\n",
    "df['available'] = df['available'].astype('category')\n",
    "df[\"category\"] = df[\"category\"].astype(\"category\")\n",
    "\n",
    "print(df.dtypes)"
   ]
  },
  {
   "cell_type": "code",
   "execution_count": 15,
   "id": "025def2f",
   "metadata": {},
   "outputs": [
    {
     "name": "stdout",
     "output_type": "stream",
     "text": [
      "50\n"
     ]
    }
   ],
   "source": [
    "num_categories = df[\"category\"].nunique()\n",
    "print(num_categories)"
   ]
  },
  {
   "cell_type": "markdown",
   "id": "df43ed95",
   "metadata": {},
   "source": [
    "## Categoris are 50 (books categoreis in the web page also 50) so we are good "
   ]
  },
  {
   "cell_type": "code",
   "execution_count": 67,
   "id": "78094259",
   "metadata": {},
   "outputs": [
    {
     "data": {
      "text/html": [
       "<div>\n",
       "<style scoped>\n",
       "    .dataframe tbody tr th:only-of-type {\n",
       "        vertical-align: middle;\n",
       "    }\n",
       "\n",
       "    .dataframe tbody tr th {\n",
       "        vertical-align: top;\n",
       "    }\n",
       "\n",
       "    .dataframe thead th {\n",
       "        text-align: right;\n",
       "    }\n",
       "</style>\n",
       "<table border=\"1\" class=\"dataframe\">\n",
       "  <thead>\n",
       "    <tr style=\"text-align: right;\">\n",
       "      <th></th>\n",
       "      <th>price</th>\n",
       "      <th>stock_count</th>\n",
       "    </tr>\n",
       "  </thead>\n",
       "  <tbody>\n",
       "    <tr>\n",
       "      <th>count</th>\n",
       "      <td>1000.00000</td>\n",
       "      <td>1000.000000</td>\n",
       "    </tr>\n",
       "    <tr>\n",
       "      <th>mean</th>\n",
       "      <td>35.07035</td>\n",
       "      <td>8.585000</td>\n",
       "    </tr>\n",
       "    <tr>\n",
       "      <th>std</th>\n",
       "      <td>14.44669</td>\n",
       "      <td>5.654622</td>\n",
       "    </tr>\n",
       "    <tr>\n",
       "      <th>min</th>\n",
       "      <td>10.00000</td>\n",
       "      <td>1.000000</td>\n",
       "    </tr>\n",
       "    <tr>\n",
       "      <th>25%</th>\n",
       "      <td>22.10750</td>\n",
       "      <td>3.000000</td>\n",
       "    </tr>\n",
       "    <tr>\n",
       "      <th>50%</th>\n",
       "      <td>35.98000</td>\n",
       "      <td>7.000000</td>\n",
       "    </tr>\n",
       "    <tr>\n",
       "      <th>75%</th>\n",
       "      <td>47.45750</td>\n",
       "      <td>14.000000</td>\n",
       "    </tr>\n",
       "    <tr>\n",
       "      <th>max</th>\n",
       "      <td>59.99000</td>\n",
       "      <td>22.000000</td>\n",
       "    </tr>\n",
       "  </tbody>\n",
       "</table>\n",
       "</div>"
      ],
      "text/plain": [
       "            price  stock_count\n",
       "count  1000.00000  1000.000000\n",
       "mean     35.07035     8.585000\n",
       "std      14.44669     5.654622\n",
       "min      10.00000     1.000000\n",
       "25%      22.10750     3.000000\n",
       "50%      35.98000     7.000000\n",
       "75%      47.45750    14.000000\n",
       "max      59.99000    22.000000"
      ]
     },
     "execution_count": 67,
     "metadata": {},
     "output_type": "execute_result"
    }
   ],
   "source": [
    "df.describe()"
   ]
  },
  {
   "cell_type": "code",
   "execution_count": 68,
   "id": "dc0eecae",
   "metadata": {},
   "outputs": [
    {
     "name": "stdout",
     "output_type": "stream",
     "text": [
      "Non books:0, unavaialable:0\n"
     ]
    }
   ],
   "source": [
    "non_books_count = (df['product_type'] != 'Books').sum()\n",
    "unavailable_books = (df['available'] == False).sum()\n",
    "\n",
    "print(f\"Non books:{non_books_count}, unavaialable:{unavailable_books}\")\n"
   ]
  },
  {
   "cell_type": "markdown",
   "id": "87ee2792",
   "metadata": {},
   "source": [
    "# According to above all are books and all are avaialble, so no use those fields"
   ]
  },
  {
   "cell_type": "code",
   "execution_count": 69,
   "id": "ae099bcb",
   "metadata": {},
   "outputs": [],
   "source": [
    "df = df.drop(columns=[\"product_type\", \"available\"])"
   ]
  },
  {
   "cell_type": "markdown",
   "id": "683670c5",
   "metadata": {},
   "source": [
    "# Good to assign int value for rating, its easy for processing and storing"
   ]
  },
  {
   "cell_type": "code",
   "execution_count": 17,
   "id": "be4a1459",
   "metadata": {},
   "outputs": [
    {
     "name": "stdout",
     "output_type": "stream",
     "text": [
      "False\n"
     ]
    }
   ],
   "source": [
    "rating_map = {\n",
    "    \"Zero\": 0,\n",
    "    \"One\": 1,\n",
    "    \"Two\": 2,\n",
    "    \"Three\": 3,\n",
    "    \"Four\": 4,\n",
    "    \"Five\": 5\n",
    "}\n",
    "\n",
    "df['rating'] = df['rating'].map(rating_map)\n",
    "\n",
    "has_nulls = df['rating'].isnull().any()\n",
    "print(has_nulls)"
   ]
  },
  {
   "cell_type": "code",
   "execution_count": 71,
   "id": "7ae01f77",
   "metadata": {},
   "outputs": [
    {
     "data": {
      "text/html": [
       "<div>\n",
       "<style scoped>\n",
       "    .dataframe tbody tr th:only-of-type {\n",
       "        vertical-align: middle;\n",
       "    }\n",
       "\n",
       "    .dataframe tbody tr th {\n",
       "        vertical-align: top;\n",
       "    }\n",
       "\n",
       "    .dataframe thead th {\n",
       "        text-align: right;\n",
       "    }\n",
       "</style>\n",
       "<table border=\"1\" class=\"dataframe\">\n",
       "  <thead>\n",
       "    <tr style=\"text-align: right;\">\n",
       "      <th></th>\n",
       "      <th>title</th>\n",
       "      <th>price</th>\n",
       "      <th>category</th>\n",
       "      <th>stock_count</th>\n",
       "      <th>rating</th>\n",
       "      <th>description</th>\n",
       "    </tr>\n",
       "  </thead>\n",
       "  <tbody>\n",
       "    <tr>\n",
       "      <th>0</th>\n",
       "      <td>A Light in the Attic</td>\n",
       "      <td>51.77</td>\n",
       "      <td>Poetry</td>\n",
       "      <td>22</td>\n",
       "      <td>3</td>\n",
       "      <td>It's hard to imagine a world without A Light i...</td>\n",
       "    </tr>\n",
       "    <tr>\n",
       "      <th>1</th>\n",
       "      <td>Tipping the Velvet</td>\n",
       "      <td>53.74</td>\n",
       "      <td>Historical Fiction</td>\n",
       "      <td>20</td>\n",
       "      <td>1</td>\n",
       "      <td>\"Erotic and absorbing...Written with starling ...</td>\n",
       "    </tr>\n",
       "    <tr>\n",
       "      <th>2</th>\n",
       "      <td>Soumission</td>\n",
       "      <td>50.10</td>\n",
       "      <td>Fiction</td>\n",
       "      <td>20</td>\n",
       "      <td>1</td>\n",
       "      <td>Dans une France assez proche de la nôtre, un h...</td>\n",
       "    </tr>\n",
       "    <tr>\n",
       "      <th>3</th>\n",
       "      <td>Sharp Objects</td>\n",
       "      <td>47.82</td>\n",
       "      <td>Mystery</td>\n",
       "      <td>20</td>\n",
       "      <td>4</td>\n",
       "      <td>WICKED above her hipbone, GIRL across her hear...</td>\n",
       "    </tr>\n",
       "    <tr>\n",
       "      <th>4</th>\n",
       "      <td>Sapiens: A Brief History of Humankind</td>\n",
       "      <td>54.23</td>\n",
       "      <td>History</td>\n",
       "      <td>20</td>\n",
       "      <td>5</td>\n",
       "      <td>From a renowned historian comes a groundbreaki...</td>\n",
       "    </tr>\n",
       "  </tbody>\n",
       "</table>\n",
       "</div>"
      ],
      "text/plain": [
       "                                   title  price            category  \\\n",
       "0                   A Light in the Attic  51.77              Poetry   \n",
       "1                     Tipping the Velvet  53.74  Historical Fiction   \n",
       "2                             Soumission  50.10             Fiction   \n",
       "3                          Sharp Objects  47.82             Mystery   \n",
       "4  Sapiens: A Brief History of Humankind  54.23             History   \n",
       "\n",
       "   stock_count rating                                        description  \n",
       "0           22      3  It's hard to imagine a world without A Light i...  \n",
       "1           20      1  \"Erotic and absorbing...Written with starling ...  \n",
       "2           20      1  Dans une France assez proche de la nôtre, un h...  \n",
       "3           20      4  WICKED above her hipbone, GIRL across her hear...  \n",
       "4           20      5  From a renowned historian comes a groundbreaki...  "
      ]
     },
     "execution_count": 71,
     "metadata": {},
     "output_type": "execute_result"
    }
   ],
   "source": [
    "df.head()"
   ]
  },
  {
   "cell_type": "code",
   "execution_count": 72,
   "id": "b2294a4d",
   "metadata": {},
   "outputs": [],
   "source": [
    "import os\n",
    "\n",
    "PROCESSED_DIR = \"processed_files\"\n",
    "os.makedirs(PROCESSED_DIR, exist_ok=True)\n",
    "df.to_json(f\"{PROCESSED_DIR}/books_processed.jsonl\", orient=\"records\", lines=True)"
   ]
  }
 ],
 "metadata": {
  "kernelspec": {
   "display_name": "base",
   "language": "python",
   "name": "python3"
  },
  "language_info": {
   "codemirror_mode": {
    "name": "ipython",
    "version": 3
   },
   "file_extension": ".py",
   "mimetype": "text/x-python",
   "name": "python",
   "nbconvert_exporter": "python",
   "pygments_lexer": "ipython3",
   "version": "3.12.7"
  }
 },
 "nbformat": 4,
 "nbformat_minor": 5
}
