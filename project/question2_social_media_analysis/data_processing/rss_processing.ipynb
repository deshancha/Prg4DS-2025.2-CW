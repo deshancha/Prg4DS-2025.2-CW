{
 "cells": [
  {
   "cell_type": "code",
   "execution_count": 1,
   "id": "8c1af4fc",
   "metadata": {},
   "outputs": [],
   "source": [
    "import pandas as pd\n",
    "\n",
    "df = pd.read_json(\"../data_collection/raw_files/news_rss.json\")"
   ]
  },
  {
   "cell_type": "code",
   "execution_count": 2,
   "id": "1c6580ae",
   "metadata": {},
   "outputs": [
    {
     "data": {
      "text/html": [
       "<div>\n",
       "<style scoped>\n",
       "    .dataframe tbody tr th:only-of-type {\n",
       "        vertical-align: middle;\n",
       "    }\n",
       "\n",
       "    .dataframe tbody tr th {\n",
       "        vertical-align: top;\n",
       "    }\n",
       "\n",
       "    .dataframe thead th {\n",
       "        text-align: right;\n",
       "    }\n",
       "</style>\n",
       "<table border=\"1\" class=\"dataframe\">\n",
       "  <thead>\n",
       "    <tr style=\"text-align: right;\">\n",
       "      <th></th>\n",
       "      <th>title</th>\n",
       "      <th>link</th>\n",
       "      <th>description</th>\n",
       "      <th>pubDate</th>\n",
       "    </tr>\n",
       "  </thead>\n",
       "  <tbody>\n",
       "    <tr>\n",
       "      <th>0</th>\n",
       "      <td>Jimmy Kimmel’s Show to Return to ABC on Tuesda...</td>\n",
       "      <td>https://www.nytimes.com/2025/09/22/business/me...</td>\n",
       "      <td>The network’s removal of Mr. Kimmel’s show las...</td>\n",
       "      <td>Tue, 23 Sep 2025 00:18:55 +0000</td>\n",
       "    </tr>\n",
       "    <tr>\n",
       "      <th>1</th>\n",
       "      <td>Politicians and Celebrities Weigh In on Jimmy ...</td>\n",
       "      <td>https://www.nytimes.com/2025/09/22/us/jimmy-ki...</td>\n",
       "      <td>Some celebrated ABC’s decision to rescind the ...</td>\n",
       "      <td>Mon, 22 Sep 2025 23:49:29 +0000</td>\n",
       "    </tr>\n",
       "    <tr>\n",
       "      <th>2</th>\n",
       "      <td>Jimmy Kimmel to Return to Air After Suspension...</td>\n",
       "      <td>https://www.nytimes.com/2025/09/20/business/ji...</td>\n",
       "      <td>The late-night show will return to the air on ...</td>\n",
       "      <td>Mon, 22 Sep 2025 22:06:27 +0000</td>\n",
       "    </tr>\n",
       "    <tr>\n",
       "      <th>3</th>\n",
       "      <td>‘The View’ Hosts Criticize Trump Administratio...</td>\n",
       "      <td>https://www.nytimes.com/2025/09/22/business/me...</td>\n",
       "      <td>The chairman of the Federal Communications Com...</td>\n",
       "      <td>Tue, 23 Sep 2025 00:52:10 +0000</td>\n",
       "    </tr>\n",
       "    <tr>\n",
       "      <th>4</th>\n",
       "      <td>Trump Issues Warning Based on Unproven Link Be...</td>\n",
       "      <td>https://www.nytimes.com/2025/09/22/health/kenn...</td>\n",
       "      <td>Top U.S. health officials urged pregnant women...</td>\n",
       "      <td>Tue, 23 Sep 2025 07:58:20 +0000</td>\n",
       "    </tr>\n",
       "  </tbody>\n",
       "</table>\n",
       "</div>"
      ],
      "text/plain": [
       "                                               title  \\\n",
       "0  Jimmy Kimmel’s Show to Return to ABC on Tuesda...   \n",
       "1  Politicians and Celebrities Weigh In on Jimmy ...   \n",
       "2  Jimmy Kimmel to Return to Air After Suspension...   \n",
       "3  ‘The View’ Hosts Criticize Trump Administratio...   \n",
       "4  Trump Issues Warning Based on Unproven Link Be...   \n",
       "\n",
       "                                                link  \\\n",
       "0  https://www.nytimes.com/2025/09/22/business/me...   \n",
       "1  https://www.nytimes.com/2025/09/22/us/jimmy-ki...   \n",
       "2  https://www.nytimes.com/2025/09/20/business/ji...   \n",
       "3  https://www.nytimes.com/2025/09/22/business/me...   \n",
       "4  https://www.nytimes.com/2025/09/22/health/kenn...   \n",
       "\n",
       "                                         description  \\\n",
       "0  The network’s removal of Mr. Kimmel’s show las...   \n",
       "1  Some celebrated ABC’s decision to rescind the ...   \n",
       "2  The late-night show will return to the air on ...   \n",
       "3  The chairman of the Federal Communications Com...   \n",
       "4  Top U.S. health officials urged pregnant women...   \n",
       "\n",
       "                           pubDate  \n",
       "0  Tue, 23 Sep 2025 00:18:55 +0000  \n",
       "1  Mon, 22 Sep 2025 23:49:29 +0000  \n",
       "2  Mon, 22 Sep 2025 22:06:27 +0000  \n",
       "3  Tue, 23 Sep 2025 00:52:10 +0000  \n",
       "4  Tue, 23 Sep 2025 07:58:20 +0000  "
      ]
     },
     "execution_count": 2,
     "metadata": {},
     "output_type": "execute_result"
    }
   ],
   "source": [
    "df.head()"
   ]
  },
  {
   "cell_type": "markdown",
   "id": "58c9c42b",
   "metadata": {},
   "source": [
    "# Date Parser"
   ]
  },
  {
   "cell_type": "code",
   "execution_count": 5,
   "id": "8fbd5115",
   "metadata": {},
   "outputs": [
    {
     "name": "stdout",
     "output_type": "stream",
     "text": [
      "title                       object\n",
      "link                        object\n",
      "description                 object\n",
      "pubDate        datetime64[ns, UTC]\n",
      "dtype: object\n"
     ]
    }
   ],
   "source": [
    "df['pubDate'] = pd.to_datetime(df['pubDate'], format='%a, %d %b %Y %H:%M:%S %z')\n",
    "\n",
    "print(df.dtypes)"
   ]
  },
  {
   "cell_type": "code",
   "execution_count": 6,
   "id": "a0b5563c",
   "metadata": {},
   "outputs": [
    {
     "data": {
      "text/html": [
       "<div>\n",
       "<style scoped>\n",
       "    .dataframe tbody tr th:only-of-type {\n",
       "        vertical-align: middle;\n",
       "    }\n",
       "\n",
       "    .dataframe tbody tr th {\n",
       "        vertical-align: top;\n",
       "    }\n",
       "\n",
       "    .dataframe thead th {\n",
       "        text-align: right;\n",
       "    }\n",
       "</style>\n",
       "<table border=\"1\" class=\"dataframe\">\n",
       "  <thead>\n",
       "    <tr style=\"text-align: right;\">\n",
       "      <th></th>\n",
       "      <th>title</th>\n",
       "      <th>link</th>\n",
       "      <th>description</th>\n",
       "      <th>pubDate</th>\n",
       "    </tr>\n",
       "  </thead>\n",
       "  <tbody>\n",
       "    <tr>\n",
       "      <th>0</th>\n",
       "      <td>Jimmy Kimmel’s Show to Return to ABC on Tuesda...</td>\n",
       "      <td>https://www.nytimes.com/2025/09/22/business/me...</td>\n",
       "      <td>The network’s removal of Mr. Kimmel’s show las...</td>\n",
       "      <td>2025-09-23 00:18:55+00:00</td>\n",
       "    </tr>\n",
       "    <tr>\n",
       "      <th>1</th>\n",
       "      <td>Politicians and Celebrities Weigh In on Jimmy ...</td>\n",
       "      <td>https://www.nytimes.com/2025/09/22/us/jimmy-ki...</td>\n",
       "      <td>Some celebrated ABC’s decision to rescind the ...</td>\n",
       "      <td>2025-09-22 23:49:29+00:00</td>\n",
       "    </tr>\n",
       "    <tr>\n",
       "      <th>2</th>\n",
       "      <td>Jimmy Kimmel to Return to Air After Suspension...</td>\n",
       "      <td>https://www.nytimes.com/2025/09/20/business/ji...</td>\n",
       "      <td>The late-night show will return to the air on ...</td>\n",
       "      <td>2025-09-22 22:06:27+00:00</td>\n",
       "    </tr>\n",
       "    <tr>\n",
       "      <th>3</th>\n",
       "      <td>‘The View’ Hosts Criticize Trump Administratio...</td>\n",
       "      <td>https://www.nytimes.com/2025/09/22/business/me...</td>\n",
       "      <td>The chairman of the Federal Communications Com...</td>\n",
       "      <td>2025-09-23 00:52:10+00:00</td>\n",
       "    </tr>\n",
       "    <tr>\n",
       "      <th>4</th>\n",
       "      <td>Trump Issues Warning Based on Unproven Link Be...</td>\n",
       "      <td>https://www.nytimes.com/2025/09/22/health/kenn...</td>\n",
       "      <td>Top U.S. health officials urged pregnant women...</td>\n",
       "      <td>2025-09-23 07:58:20+00:00</td>\n",
       "    </tr>\n",
       "  </tbody>\n",
       "</table>\n",
       "</div>"
      ],
      "text/plain": [
       "                                               title  \\\n",
       "0  Jimmy Kimmel’s Show to Return to ABC on Tuesda...   \n",
       "1  Politicians and Celebrities Weigh In on Jimmy ...   \n",
       "2  Jimmy Kimmel to Return to Air After Suspension...   \n",
       "3  ‘The View’ Hosts Criticize Trump Administratio...   \n",
       "4  Trump Issues Warning Based on Unproven Link Be...   \n",
       "\n",
       "                                                link  \\\n",
       "0  https://www.nytimes.com/2025/09/22/business/me...   \n",
       "1  https://www.nytimes.com/2025/09/22/us/jimmy-ki...   \n",
       "2  https://www.nytimes.com/2025/09/20/business/ji...   \n",
       "3  https://www.nytimes.com/2025/09/22/business/me...   \n",
       "4  https://www.nytimes.com/2025/09/22/health/kenn...   \n",
       "\n",
       "                                         description                   pubDate  \n",
       "0  The network’s removal of Mr. Kimmel’s show las... 2025-09-23 00:18:55+00:00  \n",
       "1  Some celebrated ABC’s decision to rescind the ... 2025-09-22 23:49:29+00:00  \n",
       "2  The late-night show will return to the air on ... 2025-09-22 22:06:27+00:00  \n",
       "3  The chairman of the Federal Communications Com... 2025-09-23 00:52:10+00:00  \n",
       "4  Top U.S. health officials urged pregnant women... 2025-09-23 07:58:20+00:00  "
      ]
     },
     "execution_count": 6,
     "metadata": {},
     "output_type": "execute_result"
    }
   ],
   "source": [
    "df.head()"
   ]
  }
 ],
 "metadata": {
  "kernelspec": {
   "display_name": "base",
   "language": "python",
   "name": "python3"
  },
  "language_info": {
   "codemirror_mode": {
    "name": "ipython",
    "version": 3
   },
   "file_extension": ".py",
   "mimetype": "text/x-python",
   "name": "python",
   "nbconvert_exporter": "python",
   "pygments_lexer": "ipython3",
   "version": "3.12.7"
  }
 },
 "nbformat": 4,
 "nbformat_minor": 5
}
